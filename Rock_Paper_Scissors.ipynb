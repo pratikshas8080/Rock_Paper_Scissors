{
  "nbformat": 4,
  "nbformat_minor": 0,
  "metadata": {
    "colab": {
      "name": "Rock_Paper_Scissors.ipynb",
      "provenance": [],
      "authorship_tag": "ABX9TyPE/VdD5/RCID0d+8cRaLHJ",
      "include_colab_link": true
    },
    "kernelspec": {
      "name": "python3",
      "display_name": "Python 3"
    }
  },
  "cells": [
    {
      "cell_type": "markdown",
      "metadata": {
        "id": "view-in-github",
        "colab_type": "text"
      },
      "source": [
        "<a href=\"https://colab.research.google.com/github/pratikshas8080/Rock_Paper_Scissors/blob/main/Rock_Paper_Scissors.ipynb\" target=\"_parent\"><img src=\"https://colab.research.google.com/assets/colab-badge.svg\" alt=\"Open In Colab\"/></a>"
      ]
    },
    {
      "cell_type": "code",
      "metadata": {
        "id": "zK-hbyoxe09H",
        "outputId": "641d2333-d6b0-4a02-eaeb-4506b25dd0a9",
        "colab": {
          "base_uri": "https://localhost:8080/",
          "height": 382
        }
      },
      "source": [
        "\"\"\" Rock Paper Scissors\n",
        "----------------------------------------\n",
        "\"\"\"\n",
        "import random\n",
        "import os\n",
        "import re\n",
        "os.system('cls' if os.name=='nt' else 'clear')\n",
        "while (1 < 2):\n",
        "    print (\"\\n\")\n",
        "    print (\"Rock, Paper, Scissors - Shoot!\")\n",
        "    userChoice =input(\"Choose your weapon [R]ock], [P]aper, or [S]cissors: \")\n",
        "    if not re.match(\"[SsRrPp]\", userChoice):\n",
        "        print (\"Please choose a letter:\")\n",
        "        print (\"[R]ock, [S]cissors or [P]aper.\")\n",
        "        continue\n",
        "    print (\"You chose: \" + userChoice)\n",
        "    choices = ['R', 'P', 'S']\n",
        "    opponenetChoice = random.choice(choices)\n",
        "    print (\"I chose: \" + opponenetChoice)\n",
        "    if opponenetChoice == str.upper(userChoice):\n",
        "        print (\"Tie! \")\n",
        "    #if opponenetChoice == str(\"R\") and str.upper(userChoice) == \"P\"\n",
        "    elif opponenetChoice == 'R' and userChoice.upper() == 'S':      \n",
        "        print (\"Scissors beats rock, I win! \")\n",
        "        continue\n",
        "    elif opponenetChoice == 'S' and userChoice.upper() == 'P':      \n",
        "        print (\"Scissors beats paper! I win! \")\n",
        "        continue\n",
        "    elif opponenetChoice == 'P' and userChoice.upper() == 'R':      \n",
        "        print (\"Paper beat rock, I win! \")\n",
        "        continue\n",
        "    else:       \n",
        "        print (\"You win!\")"
      ],
      "execution_count": null,
      "outputs": [
        {
          "output_type": "stream",
          "text": [
            "\n",
            "\n",
            "Rock, Paper, Scissors - Shoot!\n",
            "You chose: p\n",
            "I chose: P\n",
            "Tie! \n",
            "\n",
            "\n",
            "Rock, Paper, Scissors - Shoot!\n",
            "You chose: s\n",
            "I chose: R\n",
            "Scissors beats rock, I win! \n",
            "\n",
            "\n",
            "Rock, Paper, Scissors - Shoot!\n",
            "You chose: r\n",
            "I chose: S\n",
            "You win!\n",
            "\n",
            "\n",
            "Rock, Paper, Scissors - Shoot!\n"
          ],
          "name": "stdout"
        }
      ]
    }
  ]
}